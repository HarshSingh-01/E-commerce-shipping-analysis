{
 "cells": [
  {
   "cell_type": "code",
   "execution_count": 1,
   "id": "eff91f75-ed74-4139-9bdc-abb1886e6ef7",
   "metadata": {},
   "outputs": [],
   "source": [
    "import numpy as np\n",
    "import pandas as pd\n",
    "import matplotlib.pyplot as plt\n",
    "import seaborn as sns"
   ]
  },
  {
   "cell_type": "code",
   "execution_count": 2,
   "id": "1f98c1e1-010d-44f7-9151-f1b196c5a0b9",
   "metadata": {},
   "outputs": [
    {
     "data": {
      "text/html": [
       "<div>\n",
       "<style scoped>\n",
       "    .dataframe tbody tr th:only-of-type {\n",
       "        vertical-align: middle;\n",
       "    }\n",
       "\n",
       "    .dataframe tbody tr th {\n",
       "        vertical-align: top;\n",
       "    }\n",
       "\n",
       "    .dataframe thead th {\n",
       "        text-align: right;\n",
       "    }\n",
       "</style>\n",
       "<table border=\"1\" class=\"dataframe\">\n",
       "  <thead>\n",
       "    <tr style=\"text-align: right;\">\n",
       "      <th></th>\n",
       "      <th>ID</th>\n",
       "      <th>Warehouse_block</th>\n",
       "      <th>Mode_of_Shipment</th>\n",
       "      <th>Customer_care_calls</th>\n",
       "      <th>Customer_rating</th>\n",
       "      <th>Cost_of_the_Product</th>\n",
       "      <th>Prior_purchases</th>\n",
       "      <th>Product_importance</th>\n",
       "      <th>Gender</th>\n",
       "      <th>Discount_offered</th>\n",
       "      <th>Weight_in_gms</th>\n",
       "      <th>Reached.on.Time_Y.N</th>\n",
       "    </tr>\n",
       "  </thead>\n",
       "  <tbody>\n",
       "    <tr>\n",
       "      <th>0</th>\n",
       "      <td>1</td>\n",
       "      <td>D</td>\n",
       "      <td>Flight</td>\n",
       "      <td>4</td>\n",
       "      <td>2</td>\n",
       "      <td>177</td>\n",
       "      <td>3</td>\n",
       "      <td>low</td>\n",
       "      <td>F</td>\n",
       "      <td>44</td>\n",
       "      <td>1233</td>\n",
       "      <td>1</td>\n",
       "    </tr>\n",
       "    <tr>\n",
       "      <th>1</th>\n",
       "      <td>2</td>\n",
       "      <td>F</td>\n",
       "      <td>Flight</td>\n",
       "      <td>4</td>\n",
       "      <td>5</td>\n",
       "      <td>216</td>\n",
       "      <td>2</td>\n",
       "      <td>low</td>\n",
       "      <td>M</td>\n",
       "      <td>59</td>\n",
       "      <td>3088</td>\n",
       "      <td>1</td>\n",
       "    </tr>\n",
       "    <tr>\n",
       "      <th>2</th>\n",
       "      <td>3</td>\n",
       "      <td>A</td>\n",
       "      <td>Flight</td>\n",
       "      <td>2</td>\n",
       "      <td>2</td>\n",
       "      <td>183</td>\n",
       "      <td>4</td>\n",
       "      <td>low</td>\n",
       "      <td>M</td>\n",
       "      <td>48</td>\n",
       "      <td>3374</td>\n",
       "      <td>1</td>\n",
       "    </tr>\n",
       "    <tr>\n",
       "      <th>3</th>\n",
       "      <td>4</td>\n",
       "      <td>B</td>\n",
       "      <td>Flight</td>\n",
       "      <td>3</td>\n",
       "      <td>3</td>\n",
       "      <td>176</td>\n",
       "      <td>4</td>\n",
       "      <td>medium</td>\n",
       "      <td>M</td>\n",
       "      <td>10</td>\n",
       "      <td>1177</td>\n",
       "      <td>1</td>\n",
       "    </tr>\n",
       "    <tr>\n",
       "      <th>4</th>\n",
       "      <td>5</td>\n",
       "      <td>C</td>\n",
       "      <td>Flight</td>\n",
       "      <td>2</td>\n",
       "      <td>2</td>\n",
       "      <td>184</td>\n",
       "      <td>3</td>\n",
       "      <td>medium</td>\n",
       "      <td>F</td>\n",
       "      <td>46</td>\n",
       "      <td>2484</td>\n",
       "      <td>1</td>\n",
       "    </tr>\n",
       "  </tbody>\n",
       "</table>\n",
       "</div>"
      ],
      "text/plain": [
       "   ID Warehouse_block Mode_of_Shipment  Customer_care_calls  Customer_rating  \\\n",
       "0   1               D           Flight                    4                2   \n",
       "1   2               F           Flight                    4                5   \n",
       "2   3               A           Flight                    2                2   \n",
       "3   4               B           Flight                    3                3   \n",
       "4   5               C           Flight                    2                2   \n",
       "\n",
       "   Cost_of_the_Product  Prior_purchases Product_importance Gender  \\\n",
       "0                  177                3                low      F   \n",
       "1                  216                2                low      M   \n",
       "2                  183                4                low      M   \n",
       "3                  176                4             medium      M   \n",
       "4                  184                3             medium      F   \n",
       "\n",
       "   Discount_offered  Weight_in_gms  Reached.on.Time_Y.N  \n",
       "0                44           1233                    1  \n",
       "1                59           3088                    1  \n",
       "2                48           3374                    1  \n",
       "3                10           1177                    1  \n",
       "4                46           2484                    1  "
      ]
     },
     "execution_count": 2,
     "metadata": {},
     "output_type": "execute_result"
    }
   ],
   "source": [
    "df = pd.read_csv('Train.csv')\n",
    "df.head()"
   ]
  },
  {
   "cell_type": "code",
   "execution_count": 10,
   "id": "160eef01-680c-4625-98ea-4510724bcc11",
   "metadata": {},
   "outputs": [
    {
     "data": {
      "text/plain": [
       "(10999, 12)"
      ]
     },
     "execution_count": 10,
     "metadata": {},
     "output_type": "execute_result"
    }
   ],
   "source": [
    "df.shape"
   ]
  },
  {
   "cell_type": "code",
   "execution_count": 3,
   "id": "53a7dd05-53a1-48b6-a817-b308065197b4",
   "metadata": {},
   "outputs": [
    {
     "data": {
      "text/plain": [
       "Index(['ID', 'Warehouse_block', 'Mode_of_Shipment', 'Customer_care_calls',\n",
       "       'Customer_rating', 'Cost_of_the_Product', 'Prior_purchases',\n",
       "       'Product_importance', 'Gender', 'Discount_offered', 'Weight_in_gms',\n",
       "       'Reached.on.Time_Y.N'],\n",
       "      dtype='object')"
      ]
     },
     "execution_count": 3,
     "metadata": {},
     "output_type": "execute_result"
    }
   ],
   "source": [
    "df.columns"
   ]
  },
  {
   "cell_type": "code",
   "execution_count": 6,
   "id": "b446417b-d051-4d88-a3a6-a496c3b7836e",
   "metadata": {},
   "outputs": [
    {
     "data": {
      "text/plain": [
       "ID                      int64\n",
       "Warehouse_block        object\n",
       "Mode_of_Shipment       object\n",
       "Customer_care_calls     int64\n",
       "Customer_rating         int64\n",
       "Cost_of_the_Product     int64\n",
       "Prior_purchases         int64\n",
       "Product_importance     object\n",
       "Gender                 object\n",
       "Discount_offered        int64\n",
       "Weight_in_gms           int64\n",
       "Reached.on.Time_Y.N     int64\n",
       "dtype: object"
      ]
     },
     "execution_count": 6,
     "metadata": {},
     "output_type": "execute_result"
    }
   ],
   "source": [
    "df.dtypes"
   ]
  },
  {
   "cell_type": "markdown",
   "id": "56abe5e7-ac24-4d5f-adfc-ad5fcf03d0b6",
   "metadata": {
    "tags": []
   },
   "source": [
    "# Exploratory Data Analysis"
   ]
  },
  {
   "cell_type": "code",
   "execution_count": 8,
   "id": "ca1cbf3f-b707-4b44-b05a-4848b29ab5d0",
   "metadata": {},
   "outputs": [
    {
     "data": {
      "text/plain": [
       "<AxesSubplot: xlabel='Reached.on.Time_Y.N', ylabel='Weight_in_gms'>"
      ]
     },
     "execution_count": 8,
     "metadata": {},
     "output_type": "execute_result"
    },
    {
     "data": {
      "image/png": "[encoded data removed]",
      "text/plain": [
       "<Figure size 640x480 with 1 Axes>"
      ]
     },
     "metadata": {},
     "output_type": "display_data"
    }
   ],
   "source": [
    "sns.barplot(data=df, x=\"Reached.on.Time_Y.N\", y=\"Weight_in_gms\")"
   ]
  },
  {
   "cell_type": "markdown",
   "id": "a1e531fc-dfa8-4fa7-a78d-0536075127af",
   "metadata": {},
   "source": [
    "- Heavy objects doesn't reach on time as compared to light objects"
   ]
  },
  {
   "cell_type": "code",
   "execution_count": 14,
   "id": "888b0522-6b85-4e4a-b997-e265092b93de",
   "metadata": {},
   "outputs": [
    {
     "data": {
      "text/plain": [
       "<AxesSubplot: xlabel='Reached.on.Time_Y.N', ylabel='count'>"
      ]
     },
     "execution_count": 14,
     "metadata": {},
     "output_type": "execute_result"
    },
    {
     "data": {
      "image/png": "[encoded data removed]",
      "text/plain": [
       "<Figure size 640x480 with 1 Axes>"
      ]
     },
     "metadata": {},
     "output_type": "display_data"
    }
   ],
   "source": [
    "sns.countplot(data=df, x=\"Reached.on.Time_Y.N\", hue=\"Product_importance\")"
   ]
  },
  {
   "cell_type": "code",
   "execution_count": 15,
   "id": "6b7d61ff-d082-40ce-b861-37f7d9602d0e",
   "metadata": {},
   "outputs": [
    {
     "data": {
      "text/plain": [
       "<AxesSubplot: xlabel='Product_importance', ylabel='Discount_offered'>"
      ]
     },
     "execution_count": 15,
     "metadata": {},
     "output_type": "execute_result"
    },
    {
     "data": {
      "image/png": "[encoded data removed]",
      "text/plain": [
       "<Figure size 640x480 with 1 Axes>"
      ]
     },
     "metadata": {},
     "output_type": "display_data"
    }
   ],
   "source": [
    "sns.barplot(data=df, x='Product_importance', y='Discount_offered')"
   ]
  },
  {
   "cell_type": "markdown",
   "id": "9f429c5b-2c89-44af-a9d3-cbb57f9a3e20",
   "metadata": {
    "tags": []
   },
   "source": [
    "- More the discount, more important is the product"
   ]
  },
  {
   "cell_type": "code",
   "execution_count": 16,
   "id": "b2b2fcc0-1bb8-4e6b-9790-c5c5d371d27b",
   "metadata": {},
   "outputs": [
    {
     "data": {
      "text/plain": [
       "<AxesSubplot: xlabel='Product_importance', ylabel='Cost_of_the_Product'>"
      ]
     },
     "execution_count": 16,
     "metadata": {},
     "output_type": "execute_result"
    },
    {
     "data": {
      "image/png": "[encoded data removed]",
      "text/plain": [
       "<Figure size 640x480 with 1 Axes>"
      ]
     },
     "metadata": {},
     "output_type": "display_data"
    }
   ],
   "source": [
    "sns.barplot(data=df, x='Product_importance', y='Cost_of_the_Product')"
   ]
  },
  {
   "cell_type": "markdown",
   "id": "55f419af-4079-45b9-9b2e-9afa25d9e00c",
   "metadata": {},
   "source": [
    "- More the product importance, lower its cost"
   ]
  },
  {
   "cell_type": "code",
   "execution_count": 17,
   "id": "3cf1fccd-19b2-4c6d-b601-a4de4f317f33",
   "metadata": {},
   "outputs": [
    {
     "data": {
      "text/plain": [
       "<AxesSubplot: xlabel='Reached.on.Time_Y.N', ylabel='count'>"
      ]
     },
     "execution_count": 17,
     "metadata": {},
     "output_type": "execute_result"
    },
    {
     "data": {
      "image/png": "[encoded data removed]",
      "text/plain": [
       "<Figure size 640x480 with 1 Axes>"
      ]
     },
     "metadata": {},
     "output_type": "display_data"
    }
   ],
   "source": [
    "sns.countplot(data=df, x=\"Reached.on.Time_Y.N\", hue=\"Mode_of_Shipment\")"
   ]
  },
  {
   "cell_type": "code",
   "execution_count": 18,
   "id": "094bfc22-f263-4397-9f54-45f2c25f845d",
   "metadata": {},
   "outputs": [
    {
     "data": {
      "text/plain": [
       "<AxesSubplot: xlabel='Product_importance', ylabel='count'>"
      ]
     },
     "execution_count": 18,
     "metadata": {},
     "output_type": "execute_result"
    },
    {
     "data": {
      "image/png": "[encoded data removed]",
      "text/plain": [
       "<Figure size 640x480 with 1 Axes>"
      ]
     },
     "metadata": {},
     "output_type": "display_data"
    }
   ],
   "source": [
    "sns.countplot(data=df, x=\"Product_importance\", hue='Mode_of_Shipment')"
   ]
  },
  {
   "cell_type": "markdown",
   "id": "16c5710f-9ce7-4614-ac2d-952c635dc27b",
   "metadata": {},
   "source": [
    "- lower importance product has arrived from ship"
   ]
  },
  {
   "cell_type": "markdown",
   "id": "2fca29df-6144-49c4-ae12-a4b1737e3e42",
   "metadata": {
    "tags": []
   },
   "source": [
    "# Data Preprocessing"
   ]
  },
  {
   "cell_type": "code",
   "execution_count": 19,
   "id": "3dd99280-85a7-411e-8a74-811765b3a454",
   "metadata": {},
   "outputs": [
    {
     "data": {
      "text/plain": [
       "array(['D', 'F', 'A', 'B', 'C'], dtype=object)"
      ]
     },
     "execution_count": 19,
     "metadata": {},
     "output_type": "execute_result"
    }
   ],
   "source": [
    "df['Warehouse_block'].unique()"
   ]
  },
  {
   "cell_type": "code",
   "execution_count": 20,
   "id": "36c20c8f-125d-46b2-bcb4-a1278512ca77",
   "metadata": {},
   "outputs": [
    {
     "data": {
      "text/plain": [
       "array(['Flight', 'Ship', 'Road'], dtype=object)"
      ]
     },
     "execution_count": 20,
     "metadata": {},
     "output_type": "execute_result"
    }
   ],
   "source": [
    "df['Mode_of_Shipment'].unique()"
   ]
  },
  {
   "cell_type": "code",
   "execution_count": 21,
   "id": "b54cd9f5-09d8-4f35-8ec4-06f6611979f5",
   "metadata": {},
   "outputs": [
    {
     "data": {
      "text/plain": [
       "array(['low', 'medium', 'high'], dtype=object)"
      ]
     },
     "execution_count": 21,
     "metadata": {},
     "output_type": "execute_result"
    }
   ],
   "source": [
    "df['Product_importance'].unique()"
   ]
  },
  {
   "cell_type": "code",
   "execution_count": 22,
   "id": "26da99fc-6cd1-4b1a-8dca-ed68bff3747b",
   "metadata": {},
   "outputs": [
    {
     "data": {
      "text/plain": [
       "array(['F', 'M'], dtype=object)"
      ]
     },
     "execution_count": 22,
     "metadata": {},
     "output_type": "execute_result"
    }
   ],
   "source": [
    "df['Gender'].unique()"
   ]
  },
  {
   "cell_type": "code",
   "execution_count": 23,
   "id": "24094513-ebb3-4f3c-9263-ebf359468970",
   "metadata": {},
   "outputs": [
    {
     "data": {
      "text/html": [
       "<div>\n",
       "<style scoped>\n",
       "    .dataframe tbody tr th:only-of-type {\n",
       "        vertical-align: middle;\n",
       "    }\n",
       "\n",
       "    .dataframe tbody tr th {\n",
       "        vertical-align: top;\n",
       "    }\n",
       "\n",
       "    .dataframe thead th {\n",
       "        text-align: right;\n",
       "    }\n",
       "</style>\n",
       "<table border=\"1\" class=\"dataframe\">\n",
       "  <thead>\n",
       "    <tr style=\"text-align: right;\">\n",
       "      <th></th>\n",
       "      <th>nunique_values</th>\n",
       "      <th>n_null_values</th>\n",
       "      <th>data_types</th>\n",
       "    </tr>\n",
       "  </thead>\n",
       "  <tbody>\n",
       "    <tr>\n",
       "      <th>ID</th>\n",
       "      <td>10999</td>\n",
       "      <td>0</td>\n",
       "      <td>int64</td>\n",
       "    </tr>\n",
       "    <tr>\n",
       "      <th>Warehouse_block</th>\n",
       "      <td>5</td>\n",
       "      <td>0</td>\n",
       "      <td>object</td>\n",
       "    </tr>\n",
       "    <tr>\n",
       "      <th>Mode_of_Shipment</th>\n",
       "      <td>3</td>\n",
       "      <td>0</td>\n",
       "      <td>object</td>\n",
       "    </tr>\n",
       "    <tr>\n",
       "      <th>Customer_care_calls</th>\n",
       "      <td>6</td>\n",
       "      <td>0</td>\n",
       "      <td>int64</td>\n",
       "    </tr>\n",
       "    <tr>\n",
       "      <th>Customer_rating</th>\n",
       "      <td>5</td>\n",
       "      <td>0</td>\n",
       "      <td>int64</td>\n",
       "    </tr>\n",
       "    <tr>\n",
       "      <th>Cost_of_the_Product</th>\n",
       "      <td>215</td>\n",
       "      <td>0</td>\n",
       "      <td>int64</td>\n",
       "    </tr>\n",
       "    <tr>\n",
       "      <th>Prior_purchases</th>\n",
       "      <td>8</td>\n",
       "      <td>0</td>\n",
       "      <td>int64</td>\n",
       "    </tr>\n",
       "    <tr>\n",
       "      <th>Product_importance</th>\n",
       "      <td>3</td>\n",
       "      <td>0</td>\n",
       "      <td>object</td>\n",
       "    </tr>\n",
       "    <tr>\n",
       "      <th>Gender</th>\n",
       "      <td>2</td>\n",
       "      <td>0</td>\n",
       "      <td>object</td>\n",
       "    </tr>\n",
       "    <tr>\n",
       "      <th>Discount_offered</th>\n",
       "      <td>65</td>\n",
       "      <td>0</td>\n",
       "      <td>int64</td>\n",
       "    </tr>\n",
       "    <tr>\n",
       "      <th>Weight_in_gms</th>\n",
       "      <td>4034</td>\n",
       "      <td>0</td>\n",
       "      <td>int64</td>\n",
       "    </tr>\n",
       "    <tr>\n",
       "      <th>Reached.on.Time_Y.N</th>\n",
       "      <td>2</td>\n",
       "      <td>0</td>\n",
       "      <td>int64</td>\n",
       "    </tr>\n",
       "  </tbody>\n",
       "</table>\n",
       "</div>"
      ],
      "text/plain": [
       "                     nunique_values  n_null_values data_types\n",
       "ID                            10999              0      int64\n",
       "Warehouse_block                   5              0     object\n",
       "Mode_of_Shipment                  3              0     object\n",
       "Customer_care_calls               6              0      int64\n",
       "Customer_rating                   5              0      int64\n",
       "Cost_of_the_Product             215              0      int64\n",
       "Prior_purchases                   8              0      int64\n",
       "Product_importance                3              0     object\n",
       "Gender                            2              0     object\n",
       "Discount_offered                 65              0      int64\n",
       "Weight_in_gms                  4034              0      int64\n",
       "Reached.on.Time_Y.N               2              0      int64"
      ]
     },
     "execution_count": 23,
     "metadata": {},
     "output_type": "execute_result"
    }
   ],
   "source": [
    "temp = pd.DataFrame(index=df.columns)\n",
    "temp['nunique_values'] = df.nunique()\n",
    "temp['n_null_values'] = df.isnull().sum()\n",
    "temp['data_types'] = df.dtypes\n",
    "temp"
   ]
  },
  {
   "cell_type": "markdown",
   "id": "d4db6761-9549-4e18-8b4b-e663f1d1fd43",
   "metadata": {},
   "source": [
    "- Dataset has 0 null values\n",
    "- This means dataset is already clean"
   ]
  },
  {
   "cell_type": "code",
   "execution_count": 27,
   "id": "d5894459-4e37-4349-b432-4031e025b98f",
   "metadata": {},
   "outputs": [],
   "source": [
    "### Label encodding the object datatype: Warehouse_block, Mode_of_shipment, Product_importance and Gender\n",
    "from sklearn.preprocessing import LabelEncoder\n",
    "label_encoder = LabelEncoder()"
   ]
  },
  {
   "cell_type": "code",
   "execution_count": 28,
   "id": "09082459-1356-4c39-afb9-70814db1e563",
   "metadata": {},
   "outputs": [
    {
     "data": {
      "text/plain": [
       "array([3, 4, 0, 1, 2])"
      ]
     },
     "execution_count": 28,
     "metadata": {},
     "output_type": "execute_result"
    }
   ],
   "source": [
    "df['Warehouse_block'] = label_encoder.fit_transform(df['Warehouse_block'])\n",
    "df['Warehouse_block'].unique()"
   ]
  },
  {
   "cell_type": "code",
   "execution_count": 32,
   "id": "6f750df5-a28b-4b78-a23c-0cafd1a73996",
   "metadata": {},
   "outputs": [
    {
     "data": {
      "text/plain": [
       "array([0, 2, 1])"
      ]
     },
     "execution_count": 32,
     "metadata": {},
     "output_type": "execute_result"
    }
   ],
   "source": [
    "df['Mode_of_Shipment'] = label_encoder.fit_transform(df['Mode_of_Shipment'])\n",
    "df['Mode_of_Shipment'].unique()"
   ]
  },
  {
   "cell_type": "code",
   "execution_count": 34,
   "id": "25d7b418-d78d-484e-a52b-a550e4297cc9",
   "metadata": {},
   "outputs": [
    {
     "data": {
      "text/plain": [
       "array([1, 2, 0])"
      ]
     },
     "execution_count": 34,
     "metadata": {},
     "output_type": "execute_result"
    }
   ],
   "source": [
    "df['Product_importance'] = label_encoder.fit_transform(df['Product_importance'])\n",
    "df['Product_importance'].unique()"
   ]
  },
  {
   "cell_type": "code",
   "execution_count": 35,
   "id": "b7543f5f-7024-4acf-8230-53b3f0f5a4a9",
   "metadata": {},
   "outputs": [
    {
     "data": {
      "text/plain": [
       "array([0, 1])"
      ]
     },
     "execution_count": 35,
     "metadata": {},
     "output_type": "execute_result"
    }
   ],
   "source": [
    "df['Gender'] = label_encoder.fit_transform(df['Gender'])\n",
    "df['Gender'].unique()"
   ]
  },
  {
   "cell_type": "code",
   "execution_count": 36,
   "id": "26b146c8-c65b-48a8-b584-a80649f1fdce",
   "metadata": {},
   "outputs": [
    {
     "data": {
      "text/html": [
       "<div>\n",
       "<style scoped>\n",
       "    .dataframe tbody tr th:only-of-type {\n",
       "        vertical-align: middle;\n",
       "    }\n",
       "\n",
       "    .dataframe tbody tr th {\n",
       "        vertical-align: top;\n",
       "    }\n",
       "\n",
       "    .dataframe thead th {\n",
       "        text-align: right;\n",
       "    }\n",
       "</style>\n",
       "<table border=\"1\" class=\"dataframe\">\n",
       "  <thead>\n",
       "    <tr style=\"text-align: right;\">\n",
       "      <th></th>\n",
       "      <th>ID</th>\n",
       "      <th>Warehouse_block</th>\n",
       "      <th>Mode_of_Shipment</th>\n",
       "      <th>Customer_care_calls</th>\n",
       "      <th>Customer_rating</th>\n",
       "      <th>Cost_of_the_Product</th>\n",
       "      <th>Prior_purchases</th>\n",
       "      <th>Product_importance</th>\n",
       "      <th>Gender</th>\n",
       "      <th>Discount_offered</th>\n",
       "      <th>Weight_in_gms</th>\n",
       "      <th>Reached.on.Time_Y.N</th>\n",
       "    </tr>\n",
       "  </thead>\n",
       "  <tbody>\n",
       "    <tr>\n",
       "      <th>0</th>\n",
       "      <td>1</td>\n",
       "      <td>3</td>\n",
       "      <td>0</td>\n",
       "      <td>4</td>\n",
       "      <td>2</td>\n",
       "      <td>177</td>\n",
       "      <td>3</td>\n",
       "      <td>1</td>\n",
       "      <td>0</td>\n",
       "      <td>44</td>\n",
       "      <td>1233</td>\n",
       "      <td>1</td>\n",
       "    </tr>\n",
       "    <tr>\n",
       "      <th>1</th>\n",
       "      <td>2</td>\n",
       "      <td>4</td>\n",
       "      <td>0</td>\n",
       "      <td>4</td>\n",
       "      <td>5</td>\n",
       "      <td>216</td>\n",
       "      <td>2</td>\n",
       "      <td>1</td>\n",
       "      <td>1</td>\n",
       "      <td>59</td>\n",
       "      <td>3088</td>\n",
       "      <td>1</td>\n",
       "    </tr>\n",
       "    <tr>\n",
       "      <th>2</th>\n",
       "      <td>3</td>\n",
       "      <td>0</td>\n",
       "      <td>0</td>\n",
       "      <td>2</td>\n",
       "      <td>2</td>\n",
       "      <td>183</td>\n",
       "      <td>4</td>\n",
       "      <td>1</td>\n",
       "      <td>1</td>\n",
       "      <td>48</td>\n",
       "      <td>3374</td>\n",
       "      <td>1</td>\n",
       "    </tr>\n",
       "    <tr>\n",
       "      <th>3</th>\n",
       "      <td>4</td>\n",
       "      <td>1</td>\n",
       "      <td>0</td>\n",
       "      <td>3</td>\n",
       "      <td>3</td>\n",
       "      <td>176</td>\n",
       "      <td>4</td>\n",
       "      <td>2</td>\n",
       "      <td>1</td>\n",
       "      <td>10</td>\n",
       "      <td>1177</td>\n",
       "      <td>1</td>\n",
       "    </tr>\n",
       "    <tr>\n",
       "      <th>4</th>\n",
       "      <td>5</td>\n",
       "      <td>2</td>\n",
       "      <td>0</td>\n",
       "      <td>2</td>\n",
       "      <td>2</td>\n",
       "      <td>184</td>\n",
       "      <td>3</td>\n",
       "      <td>2</td>\n",
       "      <td>0</td>\n",
       "      <td>46</td>\n",
       "      <td>2484</td>\n",
       "      <td>1</td>\n",
       "    </tr>\n",
       "  </tbody>\n",
       "</table>\n",
       "</div>"
      ],
      "text/plain": [
       "   ID  Warehouse_block  Mode_of_Shipment  Customer_care_calls  \\\n",
       "0   1                3                 0                    4   \n",
       "1   2                4                 0                    4   \n",
       "2   3                0                 0                    2   \n",
       "3   4                1                 0                    3   \n",
       "4   5                2                 0                    2   \n",
       "\n",
       "   Customer_rating  Cost_of_the_Product  Prior_purchases  Product_importance  \\\n",
       "0                2                  177                3                   1   \n",
       "1                5                  216                2                   1   \n",
       "2                2                  183                4                   1   \n",
       "3                3                  176                4                   2   \n",
       "4                2                  184                3                   2   \n",
       "\n",
       "   Gender  Discount_offered  Weight_in_gms  Reached.on.Time_Y.N  \n",
       "0       0                44           1233                    1  \n",
       "1       1                59           3088                    1  \n",
       "2       1                48           3374                    1  \n",
       "3       1                10           1177                    1  \n",
       "4       0                46           2484                    1  "
      ]
     },
     "execution_count": 36,
     "metadata": {},
     "output_type": "execute_result"
    }
   ],
   "source": [
    "df.head()"
   ]
  },
  {
   "cell_type": "code",
   "execution_count": 37,
   "id": "09603d1a-690d-47a9-a6e0-89c56d4eb2bd",
   "metadata": {},
   "outputs": [
    {
     "data": {
      "text/plain": [
       "ID                     int64\n",
       "Warehouse_block        int64\n",
       "Mode_of_Shipment       int64\n",
       "Customer_care_calls    int64\n",
       "Customer_rating        int64\n",
       "Cost_of_the_Product    int64\n",
       "Prior_purchases        int64\n",
       "Product_importance     int64\n",
       "Gender                 int64\n",
       "Discount_offered       int64\n",
       "Weight_in_gms          int64\n",
       "Reached.on.Time_Y.N    int64\n",
       "dtype: object"
      ]
     },
     "execution_count": 37,
     "metadata": {},
     "output_type": "execute_result"
    }
   ],
   "source": [
    "df.dtypes"
   ]
  },
  {
   "cell_type": "markdown",
   "id": "b74e9466-b996-43f4-9b42-1bc9dc1fff35",
   "metadata": {},
   "source": [
    "- Now, all the data types are in numerical values"
   ]
  },
  {
   "cell_type": "markdown",
   "id": "a6065dde-32f6-44f0-8906-4a0f62ed2512",
   "metadata": {},
   "source": [
    "# Checking for outliers"
   ]
  },
  {
   "cell_type": "code",
   "execution_count": 38,
   "id": "f8c12409-7feb-4209-a41d-ae4bf8768045",
   "metadata": {},
   "outputs": [
    {
     "data": {
      "text/plain": [
       "<AxesSubplot: xlabel='Cost_of_the_Product'>"
      ]
     },
     "execution_count": 38,
     "metadata": {},
     "output_type": "execute_result"
    },
    {
     "data": {
      "image/png": "[encoded data removed]",
      "text/plain": [
       "<Figure size 640x480 with 1 Axes>"
      ]
     },
     "metadata": {},
     "output_type": "display_data"
    }
   ],
   "source": [
    "sns.boxplot(x=df['Cost_of_the_Product'])"
   ]
  },
  {
   "cell_type": "code",
   "execution_count": 39,
   "id": "f834e6bc-3488-474f-b4a2-ce7d2b325558",
   "metadata": {},
   "outputs": [
    {
     "data": {
      "text/plain": [
       "<AxesSubplot: xlabel='Discount_offered'>"
      ]
     },
     "execution_count": 39,
     "metadata": {},
     "output_type": "execute_result"
    },
    {
     "data": {
      "image/png": "[encoded data removed]",
      "text/plain": [
       "<Figure size 640x480 with 1 Axes>"
      ]
     },
     "metadata": {},
     "output_type": "display_data"
    }
   ],
   "source": [
    "sns.boxplot(x=df['Discount_offered'])"
   ]
  },
  {
   "cell_type": "code",
   "execution_count": 40,
   "id": "d24aa9b4-18ab-4a52-9408-42e086f5d6f8",
   "metadata": {},
   "outputs": [
    {
     "data": {
      "text/plain": [
       "<AxesSubplot: xlabel='Weight_in_gms'>"
      ]
     },
     "execution_count": 40,
     "metadata": {},
     "output_type": "execute_result"
    },
    {
     "data": {
      "image/png": "[encoded data removed]",
      "text/plain": [
       "<Figure size 640x480 with 1 Axes>"
      ]
     },
     "metadata": {},
     "output_type": "display_data"
    }
   ],
   "source": [
    "sns.boxplot(x=df['Weight_in_gms'])"
   ]
  },
  {
   "cell_type": "markdown",
   "id": "3156f5f1-d2a7-473e-969e-3d69a0d091e5",
   "metadata": {},
   "source": [
    "## Delete the Outlier Using Z-Score"
   ]
  },
  {
   "cell_type": "code",
   "execution_count": 121,
   "id": "5c93c034-f5b4-41a2-a755-bbc9f7bad466",
   "metadata": {},
   "outputs": [
    {
     "data": {
      "text/plain": [
       "(10642, 12)"
      ]
     },
     "execution_count": 121,
     "metadata": {},
     "output_type": "execute_result"
    }
   ],
   "source": [
    "import scipy.stats as stats\n",
    "z = np.abs(stats.zscore(df))\n",
    "data_clean = df[(z<3).all(axis = 1)]\n",
    "data_clean.shape"
   ]
  },
  {
   "cell_type": "markdown",
   "id": "fa4bc2ca-583c-499d-8e6b-81fce4fae5b4",
   "metadata": {},
   "source": [
    "# Balancing the Class Value"
   ]
  },
  {
   "cell_type": "code",
   "execution_count": 122,
   "id": "6ff35dfa-6fbe-4f90-9cb0-afe85d516606",
   "metadata": {},
   "outputs": [
    {
     "data": {
      "text/plain": [
       "1    6282\n",
       "0    4360\n",
       "Name: Reached.on.Time_Y.N, dtype: int64"
      ]
     },
     "execution_count": 122,
     "metadata": {},
     "output_type": "execute_result"
    },
    {
     "data": {
      "image/png": "[encoded data removed]",
      "text/plain": [
       "<Figure size 640x480 with 1 Axes>"
      ]
     },
     "metadata": {},
     "output_type": "display_data"
    }
   ],
   "source": [
    "# Counting 1 and 0 Value in stroke column\n",
    "sns.countplot(x=data_clean['Reached.on.Time_Y.N'])\n",
    "data_clean['Reached.on.Time_Y.N'].value_counts()"
   ]
  },
  {
   "cell_type": "code",
   "execution_count": 124,
   "id": "83d871ea-050a-464f-8004-21b8f18a75d6",
   "metadata": {},
   "outputs": [],
   "source": [
    "from sklearn.utils import resample\n",
    "\n",
    "# Create two different dataframe of majority and minority class\n",
    "\n",
    "df_majority = data_clean[(data_clean['Reached.on.Time_Y.N']==1)]\n",
    "df_minority = data_clean[(data_clean['Reached.on.Time_Y.N']==0)]\n",
    "\n",
    "# Upsmapled minority class\n",
    "df_minority_upsampled = resample(df_minority, replace=True, n_samples=6282, random_state=0)\n",
    "\n",
    "# Combine majority class with upsampled minority class\n",
    "\n",
    "df_upsampled = pd.concat([df_minority_upsampled, df_majority])"
   ]
  },
  {
   "cell_type": "code",
   "execution_count": 125,
   "id": "345474a4-e3ad-4f95-9ac2-bf5eef74bcc0",
   "metadata": {},
   "outputs": [
    {
     "data": {
      "text/plain": [
       "0    6282\n",
       "1    6282\n",
       "Name: Reached.on.Time_Y.N, dtype: int64"
      ]
     },
     "execution_count": 125,
     "metadata": {},
     "output_type": "execute_result"
    },
    {
     "data": {
      "image/png": "[encoded data removed]",
      "text/plain": [
       "<Figure size 640x480 with 1 Axes>"
      ]
     },
     "metadata": {},
     "output_type": "display_data"
    }
   ],
   "source": [
    "sns.countplot(x=df_upsampled['Reached.on.Time_Y.N'])\n",
    "df_upsampled['Reached.on.Time_Y.N'].value_counts()"
   ]
  },
  {
   "cell_type": "code",
   "execution_count": 126,
   "id": "7f01b195-ec06-4cd2-b3ff-9ee02e325a07",
   "metadata": {},
   "outputs": [
    {
     "data": {
      "text/html": [
       "<div>\n",
       "<style scoped>\n",
       "    .dataframe tbody tr th:only-of-type {\n",
       "        vertical-align: middle;\n",
       "    }\n",
       "\n",
       "    .dataframe tbody tr th {\n",
       "        vertical-align: top;\n",
       "    }\n",
       "\n",
       "    .dataframe thead th {\n",
       "        text-align: right;\n",
       "    }\n",
       "</style>\n",
       "<table border=\"1\" class=\"dataframe\">\n",
       "  <thead>\n",
       "    <tr style=\"text-align: right;\">\n",
       "      <th></th>\n",
       "      <th>ID</th>\n",
       "      <th>Warehouse_block</th>\n",
       "      <th>Mode_of_Shipment</th>\n",
       "      <th>Customer_care_calls</th>\n",
       "      <th>Customer_rating</th>\n",
       "      <th>Cost_of_the_Product</th>\n",
       "      <th>Prior_purchases</th>\n",
       "      <th>Product_importance</th>\n",
       "      <th>Gender</th>\n",
       "      <th>Discount_offered</th>\n",
       "      <th>Weight_in_gms</th>\n",
       "      <th>Reached.on.Time_Y.N</th>\n",
       "    </tr>\n",
       "  </thead>\n",
       "  <tbody>\n",
       "    <tr>\n",
       "      <th>ID</th>\n",
       "      <td>1.000000</td>\n",
       "      <td>-0.004031</td>\n",
       "      <td>-0.002197</td>\n",
       "      <td>0.184646</td>\n",
       "      <td>-0.012559</td>\n",
       "      <td>0.183367</td>\n",
       "      <td>0.177367</td>\n",
       "      <td>0.037248</td>\n",
       "      <td>0.000108</td>\n",
       "      <td>-0.578236</td>\n",
       "      <td>0.229682</td>\n",
       "      <td>-0.418435</td>\n",
       "    </tr>\n",
       "    <tr>\n",
       "      <th>Warehouse_block</th>\n",
       "      <td>-0.004031</td>\n",
       "      <td>1.000000</td>\n",
       "      <td>-0.008947</td>\n",
       "      <td>0.015408</td>\n",
       "      <td>0.013999</td>\n",
       "      <td>-0.011878</td>\n",
       "      <td>-0.017807</td>\n",
       "      <td>-0.005213</td>\n",
       "      <td>-0.015517</td>\n",
       "      <td>0.005731</td>\n",
       "      <td>0.006684</td>\n",
       "      <td>0.002930</td>\n",
       "    </tr>\n",
       "    <tr>\n",
       "      <th>Mode_of_Shipment</th>\n",
       "      <td>-0.002197</td>\n",
       "      <td>-0.008947</td>\n",
       "      <td>1.000000</td>\n",
       "      <td>-0.008925</td>\n",
       "      <td>-0.005049</td>\n",
       "      <td>0.010257</td>\n",
       "      <td>-0.001489</td>\n",
       "      <td>0.006799</td>\n",
       "      <td>-0.008400</td>\n",
       "      <td>0.004637</td>\n",
       "      <td>-0.004824</td>\n",
       "      <td>-0.003797</td>\n",
       "    </tr>\n",
       "    <tr>\n",
       "      <th>Customer_care_calls</th>\n",
       "      <td>0.184646</td>\n",
       "      <td>0.015408</td>\n",
       "      <td>-0.008925</td>\n",
       "      <td>1.000000</td>\n",
       "      <td>0.017324</td>\n",
       "      <td>0.328652</td>\n",
       "      <td>0.251216</td>\n",
       "      <td>-0.001576</td>\n",
       "      <td>0.004575</td>\n",
       "      <td>-0.124304</td>\n",
       "      <td>-0.304531</td>\n",
       "      <td>-0.069751</td>\n",
       "    </tr>\n",
       "    <tr>\n",
       "      <th>Customer_rating</th>\n",
       "      <td>-0.012559</td>\n",
       "      <td>0.013999</td>\n",
       "      <td>-0.005049</td>\n",
       "      <td>0.017324</td>\n",
       "      <td>1.000000</td>\n",
       "      <td>0.006268</td>\n",
       "      <td>0.009140</td>\n",
       "      <td>0.005920</td>\n",
       "      <td>0.012163</td>\n",
       "      <td>0.001906</td>\n",
       "      <td>-0.014667</td>\n",
       "      <td>0.010531</td>\n",
       "    </tr>\n",
       "    <tr>\n",
       "      <th>Cost_of_the_Product</th>\n",
       "      <td>0.183367</td>\n",
       "      <td>-0.011878</td>\n",
       "      <td>0.010257</td>\n",
       "      <td>0.328652</td>\n",
       "      <td>0.006268</td>\n",
       "      <td>1.000000</td>\n",
       "      <td>0.170499</td>\n",
       "      <td>0.011690</td>\n",
       "      <td>0.026529</td>\n",
       "      <td>-0.128581</td>\n",
       "      <td>-0.188768</td>\n",
       "      <td>-0.069686</td>\n",
       "    </tr>\n",
       "    <tr>\n",
       "      <th>Prior_purchases</th>\n",
       "      <td>0.177367</td>\n",
       "      <td>-0.017807</td>\n",
       "      <td>-0.001489</td>\n",
       "      <td>0.251216</td>\n",
       "      <td>0.009140</td>\n",
       "      <td>0.170499</td>\n",
       "      <td>1.000000</td>\n",
       "      <td>0.018892</td>\n",
       "      <td>-0.010768</td>\n",
       "      <td>-0.099141</td>\n",
       "      <td>-0.251241</td>\n",
       "      <td>-0.064212</td>\n",
       "    </tr>\n",
       "    <tr>\n",
       "      <th>Product_importance</th>\n",
       "      <td>0.037248</td>\n",
       "      <td>-0.005213</td>\n",
       "      <td>0.006799</td>\n",
       "      <td>-0.001576</td>\n",
       "      <td>0.005920</td>\n",
       "      <td>0.011690</td>\n",
       "      <td>0.018892</td>\n",
       "      <td>1.000000</td>\n",
       "      <td>-0.009993</td>\n",
       "      <td>-0.010951</td>\n",
       "      <td>-0.000024</td>\n",
       "      <td>-0.026076</td>\n",
       "    </tr>\n",
       "    <tr>\n",
       "      <th>Gender</th>\n",
       "      <td>0.000108</td>\n",
       "      <td>-0.015517</td>\n",
       "      <td>-0.008400</td>\n",
       "      <td>0.004575</td>\n",
       "      <td>0.012163</td>\n",
       "      <td>0.026529</td>\n",
       "      <td>-0.010768</td>\n",
       "      <td>-0.009993</td>\n",
       "      <td>1.000000</td>\n",
       "      <td>-0.009133</td>\n",
       "      <td>-0.011810</td>\n",
       "      <td>0.010189</td>\n",
       "    </tr>\n",
       "    <tr>\n",
       "      <th>Discount_offered</th>\n",
       "      <td>-0.578236</td>\n",
       "      <td>0.005731</td>\n",
       "      <td>0.004637</td>\n",
       "      <td>-0.124304</td>\n",
       "      <td>0.001906</td>\n",
       "      <td>-0.128581</td>\n",
       "      <td>-0.099141</td>\n",
       "      <td>-0.010951</td>\n",
       "      <td>-0.009133</td>\n",
       "      <td>1.000000</td>\n",
       "      <td>-0.351962</td>\n",
       "      <td>0.419707</td>\n",
       "    </tr>\n",
       "    <tr>\n",
       "      <th>Weight_in_gms</th>\n",
       "      <td>0.229682</td>\n",
       "      <td>0.006684</td>\n",
       "      <td>-0.004824</td>\n",
       "      <td>-0.304531</td>\n",
       "      <td>-0.014667</td>\n",
       "      <td>-0.188768</td>\n",
       "      <td>-0.251241</td>\n",
       "      <td>-0.000024</td>\n",
       "      <td>-0.011810</td>\n",
       "      <td>-0.351962</td>\n",
       "      <td>1.000000</td>\n",
       "      <td>-0.264326</td>\n",
       "    </tr>\n",
       "    <tr>\n",
       "      <th>Reached.on.Time_Y.N</th>\n",
       "      <td>-0.418435</td>\n",
       "      <td>0.002930</td>\n",
       "      <td>-0.003797</td>\n",
       "      <td>-0.069751</td>\n",
       "      <td>0.010531</td>\n",
       "      <td>-0.069686</td>\n",
       "      <td>-0.064212</td>\n",
       "      <td>-0.026076</td>\n",
       "      <td>0.010189</td>\n",
       "      <td>0.419707</td>\n",
       "      <td>-0.264326</td>\n",
       "      <td>1.000000</td>\n",
       "    </tr>\n",
       "  </tbody>\n",
       "</table>\n",
       "</div>"
      ],
      "text/plain": [
       "                           ID  Warehouse_block  Mode_of_Shipment  \\\n",
       "ID                   1.000000        -0.004031         -0.002197   \n",
       "Warehouse_block     -0.004031         1.000000         -0.008947   \n",
       "Mode_of_Shipment    -0.002197        -0.008947          1.000000   \n",
       "Customer_care_calls  0.184646         0.015408         -0.008925   \n",
       "Customer_rating     -0.012559         0.013999         -0.005049   \n",
       "Cost_of_the_Product  0.183367        -0.011878          0.010257   \n",
       "Prior_purchases      0.177367        -0.017807         -0.001489   \n",
       "Product_importance   0.037248        -0.005213          0.006799   \n",
       "Gender               0.000108        -0.015517         -0.008400   \n",
       "Discount_offered    -0.578236         0.005731          0.004637   \n",
       "Weight_in_gms        0.229682         0.006684         -0.004824   \n",
       "Reached.on.Time_Y.N -0.418435         0.002930         -0.003797   \n",
       "\n",
       "                     Customer_care_calls  Customer_rating  \\\n",
       "ID                              0.184646        -0.012559   \n",
       "Warehouse_block                 0.015408         0.013999   \n",
       "Mode_of_Shipment               -0.008925        -0.005049   \n",
       "Customer_care_calls             1.000000         0.017324   \n",
       "Customer_rating                 0.017324         1.000000   \n",
       "Cost_of_the_Product             0.328652         0.006268   \n",
       "Prior_purchases                 0.251216         0.009140   \n",
       "Product_importance             -0.001576         0.005920   \n",
       "Gender                          0.004575         0.012163   \n",
       "Discount_offered               -0.124304         0.001906   \n",
       "Weight_in_gms                  -0.304531        -0.014667   \n",
       "Reached.on.Time_Y.N            -0.069751         0.010531   \n",
       "\n",
       "                     Cost_of_the_Product  Prior_purchases  Product_importance  \\\n",
       "ID                              0.183367         0.177367            0.037248   \n",
       "Warehouse_block                -0.011878        -0.017807           -0.005213   \n",
       "Mode_of_Shipment                0.010257        -0.001489            0.006799   \n",
       "Customer_care_calls             0.328652         0.251216           -0.001576   \n",
       "Customer_rating                 0.006268         0.009140            0.005920   \n",
       "Cost_of_the_Product             1.000000         0.170499            0.011690   \n",
       "Prior_purchases                 0.170499         1.000000            0.018892   \n",
       "Product_importance              0.011690         0.018892            1.000000   \n",
       "Gender                          0.026529        -0.010768           -0.009993   \n",
       "Discount_offered               -0.128581        -0.099141           -0.010951   \n",
       "Weight_in_gms                  -0.188768        -0.251241           -0.000024   \n",
       "Reached.on.Time_Y.N            -0.069686        -0.064212           -0.026076   \n",
       "\n",
       "                       Gender  Discount_offered  Weight_in_gms  \\\n",
       "ID                   0.000108         -0.578236       0.229682   \n",
       "Warehouse_block     -0.015517          0.005731       0.006684   \n",
       "Mode_of_Shipment    -0.008400          0.004637      -0.004824   \n",
       "Customer_care_calls  0.004575         -0.124304      -0.304531   \n",
       "Customer_rating      0.012163          0.001906      -0.014667   \n",
       "Cost_of_the_Product  0.026529         -0.128581      -0.188768   \n",
       "Prior_purchases     -0.010768         -0.099141      -0.251241   \n",
       "Product_importance  -0.009993         -0.010951      -0.000024   \n",
       "Gender               1.000000         -0.009133      -0.011810   \n",
       "Discount_offered    -0.009133          1.000000      -0.351962   \n",
       "Weight_in_gms       -0.011810         -0.351962       1.000000   \n",
       "Reached.on.Time_Y.N  0.010189          0.419707      -0.264326   \n",
       "\n",
       "                     Reached.on.Time_Y.N  \n",
       "ID                             -0.418435  \n",
       "Warehouse_block                 0.002930  \n",
       "Mode_of_Shipment               -0.003797  \n",
       "Customer_care_calls            -0.069751  \n",
       "Customer_rating                 0.010531  \n",
       "Cost_of_the_Product            -0.069686  \n",
       "Prior_purchases                -0.064212  \n",
       "Product_importance             -0.026076  \n",
       "Gender                          0.010189  \n",
       "Discount_offered                0.419707  \n",
       "Weight_in_gms                  -0.264326  \n",
       "Reached.on.Time_Y.N             1.000000  "
      ]
     },
     "execution_count": 126,
     "metadata": {},
     "output_type": "execute_result"
    }
   ],
   "source": [
    "df_upsampled.corr()"
   ]
  },
  {
   "cell_type": "code",
   "execution_count": 127,
   "id": "5aed027c-7df0-4835-8d7b-ccbdacf488f0",
   "metadata": {},
   "outputs": [
    {
     "data": {
      "text/plain": [
       "<AxesSubplot: >"
      ]
     },
     "execution_count": 127,
     "metadata": {},
     "output_type": "execute_result"
    },
    {
     "data": {
      "image/png": "[encoded data removed]",
      "text/plain": [
       "<Figure size 640x480 with 2 Axes>"
      ]
     },
     "metadata": {},
     "output_type": "display_data"
    }
   ],
   "source": [
    "sns.heatmap(df_upsampled.corr())"
   ]
  },
  {
   "cell_type": "markdown",
   "id": "6833c97c-5e6e-4355-a92a-55d74a79dd44",
   "metadata": {},
   "source": [
    "# Machine Learning Model Building"
   ]
  },
  {
   "cell_type": "code",
   "execution_count": 128,
   "id": "f87c5b19-540f-412a-9c95-bf4e2c535404",
   "metadata": {},
   "outputs": [
    {
     "data": {
      "text/plain": [
       "Index(['ID', 'Warehouse_block', 'Mode_of_Shipment', 'Customer_care_calls',\n",
       "       'Customer_rating', 'Cost_of_the_Product', 'Prior_purchases',\n",
       "       'Product_importance', 'Gender', 'Discount_offered', 'Weight_in_gms',\n",
       "       'Reached.on.Time_Y.N'],\n",
       "      dtype='object')"
      ]
     },
     "execution_count": 128,
     "metadata": {},
     "output_type": "execute_result"
    }
   ],
   "source": [
    "df_upsampled.columns"
   ]
  },
  {
   "cell_type": "code",
   "execution_count": 129,
   "id": "2e6233e7-23e4-4a1f-abfa-fa00e993684d",
   "metadata": {},
   "outputs": [],
   "source": [
    "X = df_upsampled.drop(['Reached.on.Time_Y.N','ID'], axis=1)\n",
    "y = df_upsampled['Reached.on.Time_Y.N']"
   ]
  },
  {
   "cell_type": "code",
   "execution_count": 130,
   "id": "50b1711b-5eb5-4be4-b5a9-4a0ed15a0481",
   "metadata": {},
   "outputs": [
    {
     "data": {
      "text/plain": [
       "(12564, 10)"
      ]
     },
     "execution_count": 130,
     "metadata": {},
     "output_type": "execute_result"
    }
   ],
   "source": [
    "X.shape"
   ]
  },
  {
   "cell_type": "code",
   "execution_count": 131,
   "id": "d18c8482-ce2d-4c09-9a70-7fafd1a29293",
   "metadata": {},
   "outputs": [
    {
     "data": {
      "text/plain": [
       "(12564,)"
      ]
     },
     "execution_count": 131,
     "metadata": {},
     "output_type": "execute_result"
    }
   ],
   "source": [
    "y.shape"
   ]
  },
  {
   "cell_type": "code",
   "execution_count": 132,
   "id": "17405e23-a2cd-4d9a-8096-39b15f3a438b",
   "metadata": {},
   "outputs": [],
   "source": [
    "#Splitting the data into train and test\n",
    "\n",
    "from sklearn.model_selection import train_test_split, cross_val_score, cross_val_predict\n",
    "from sklearn.metrics import accuracy_score, f1_score, precision_score, recall_score"
   ]
  },
  {
   "cell_type": "code",
   "execution_count": 133,
   "id": "4770a466-7a10-4ff8-9efe-667491f01ead",
   "metadata": {},
   "outputs": [],
   "source": [
    "X_train, X_test, y_train, y_test = train_test_split(X,y, test_size=0.2, random_state=42)"
   ]
  },
  {
   "cell_type": "code",
   "execution_count": 134,
   "id": "b7eabcfb-0ff2-4c22-9f79-be1852fb6b08",
   "metadata": {},
   "outputs": [
    {
     "data": {
      "text/plain": [
       "(10051, 10)"
      ]
     },
     "execution_count": 134,
     "metadata": {},
     "output_type": "execute_result"
    }
   ],
   "source": [
    "X_train.shape"
   ]
  },
  {
   "cell_type": "code",
   "execution_count": 135,
   "id": "a03943ab-6389-451a-9466-e7fb6b3e2ab3",
   "metadata": {},
   "outputs": [
    {
     "data": {
      "text/plain": [
       "(2513, 10)"
      ]
     },
     "execution_count": 135,
     "metadata": {},
     "output_type": "execute_result"
    }
   ],
   "source": [
    "X_test.shape"
   ]
  },
  {
   "cell_type": "code",
   "execution_count": 136,
   "id": "890a38a0-70f8-49e0-99fd-ae37ba3d5dca",
   "metadata": {},
   "outputs": [
    {
     "data": {
      "text/plain": [
       "(10051,)"
      ]
     },
     "execution_count": 136,
     "metadata": {},
     "output_type": "execute_result"
    }
   ],
   "source": [
    "y_train.shape"
   ]
  },
  {
   "cell_type": "code",
   "execution_count": 137,
   "id": "f473984d-3415-4a74-b70b-6814b723efc5",
   "metadata": {},
   "outputs": [
    {
     "data": {
      "text/plain": [
       "(2513,)"
      ]
     },
     "execution_count": 137,
     "metadata": {},
     "output_type": "execute_result"
    }
   ],
   "source": [
    "y_test.shape"
   ]
  },
  {
   "cell_type": "markdown",
   "id": "7508390f-f4af-47bb-936a-8ae96110eafb",
   "metadata": {},
   "source": [
    "## Decision Tree Classifier"
   ]
  },
  {
   "cell_type": "code",
   "execution_count": 138,
   "id": "29bdccb5-7e3f-4091-84b9-21d20cac2d33",
   "metadata": {},
   "outputs": [
    {
     "data": {
      "text/html": [
       "<style>#sk-container-id-12 {color: black;background-color: white;}#sk-container-id-12 pre{padding: 0;}#sk-container-id-12 div.sk-toggleable {background-color: white;}#sk-container-id-12 label.sk-toggleable__label {cursor: pointer;display: block;width: 100%;margin-bottom: 0;padding: 0.3em;box-sizing: border-box;text-align: center;}#sk-container-id-12 label.sk-toggleable__label-arrow:before {content: \"▸\";float: left;margin-right: 0.25em;color: #696969;}#sk-container-id-12 label.sk-toggleable__label-arrow:hover:before {color: black;}#sk-container-id-12 div.sk-estimator:hover label.sk-toggleable__label-arrow:before {color: black;}#sk-container-id-12 div.sk-toggleable__content {max-height: 0;max-width: 0;overflow: hidden;text-align: left;background-color: #f0f8ff;}#sk-container-id-12 div.sk-toggleable__content pre {margin: 0.2em;color: black;border-radius: 0.25em;background-color: #f0f8ff;}#sk-container-id-12 input.sk-toggleable__control:checked~div.sk-toggleable__content {max-height: 200px;max-width: 100%;overflow: auto;}#sk-container-id-12 input.sk-toggleable__control:checked~label.sk-toggleable__label-arrow:before {content: \"▾\";}#sk-container-id-12 div.sk-estimator input.sk-toggleable__control:checked~label.sk-toggleable__label {background-color: #d4ebff;}#sk-container-id-12 div.sk-label input.sk-toggleable__control:checked~label.sk-toggleable__label {background-color: #d4ebff;}#sk-container-id-12 input.sk-hidden--visually {border: 0;clip: rect(1px 1px 1px 1px);clip: rect(1px, 1px, 1px, 1px);height: 1px;margin: -1px;overflow: hidden;padding: 0;position: absolute;width: 1px;}#sk-container-id-12 div.sk-estimator {font-family: monospace;background-color: #f0f8ff;border: 1px dotted black;border-radius: 0.25em;box-sizing: border-box;margin-bottom: 0.5em;}#sk-container-id-12 div.sk-estimator:hover {background-color: #d4ebff;}#sk-container-id-12 div.sk-parallel-item::after {content: \"\";width: 100%;border-bottom: 1px solid gray;flex-grow: 1;}#sk-container-id-12 div.sk-label:hover label.sk-toggleable__label {background-color: #d4ebff;}#sk-container-id-12 div.sk-serial::before {content: \"\";position: absolute;border-left: 1px solid gray;box-sizing: border-box;top: 0;bottom: 0;left: 50%;z-index: 0;}#sk-container-id-12 div.sk-serial {display: flex;flex-direction: column;align-items: center;background-color: white;padding-right: 0.2em;padding-left: 0.2em;position: relative;}#sk-container-id-12 div.sk-item {position: relative;z-index: 1;}#sk-container-id-12 div.sk-parallel {display: flex;align-items: stretch;justify-content: center;background-color: white;position: relative;}#sk-container-id-12 div.sk-item::before, #sk-container-id-12 div.sk-parallel-item::before {content: \"\";position: absolute;border-left: 1px solid gray;box-sizing: border-box;top: 0;bottom: 0;left: 50%;z-index: -1;}#sk-container-id-12 div.sk-parallel-item {display: flex;flex-direction: column;z-index: 1;position: relative;background-color: white;}#sk-container-id-12 div.sk-parallel-item:first-child::after {align-self: flex-end;width: 50%;}#sk-container-id-12 div.sk-parallel-item:last-child::after {align-self: flex-start;width: 50%;}#sk-container-id-12 div.sk-parallel-item:only-child::after {width: 0;}#sk-container-id-12 div.sk-dashed-wrapped {border: 1px dashed gray;margin: 0 0.4em 0.5em 0.4em;box-sizing: border-box;padding-bottom: 0.4em;background-color: white;}#sk-container-id-12 div.sk-label label {font-family: monospace;font-weight: bold;display: inline-block;line-height: 1.2em;}#sk-container-id-12 div.sk-label-container {text-align: center;}#sk-container-id-12 div.sk-container {/* jupyter's `normalize.less` sets `[hidden] { display: none; }` but bootstrap.min.css set `[hidden] { display: none !important; }` so we also need the `!important` here to be able to override the default hidden behavior on the sphinx rendered scikit-learn.org. See: https://github.com/scikit-learn/scikit-learn/issues/21755 */display: inline-block !important;position: relative;}#sk-container-id-12 div.sk-text-repr-fallback {display: none;}</style><div id=\"sk-container-id-12\" class=\"sk-top-container\"><div class=\"sk-text-repr-fallback\"><pre>DecisionTreeClassifier(random_state=42)</pre><b>In a Jupyter environment, please rerun this cell to show the HTML representation or trust the notebook. <br />On GitHub, the HTML representation is unable to render, please try loading this page with nbviewer.org.</b></div><div class=\"sk-container\" hidden><div class=\"sk-item\"><div class=\"sk-estimator sk-toggleable\"><input class=\"sk-toggleable__control sk-hidden--visually\" id=\"sk-estimator-id-12\" type=\"checkbox\" checked><label for=\"sk-estimator-id-12\" class=\"sk-toggleable__label sk-toggleable__label-arrow\">DecisionTreeClassifier</label><div class=\"sk-toggleable__content\"><pre>DecisionTreeClassifier(random_state=42)</pre></div></div></div></div></div>"
      ],
      "text/plain": [
       "DecisionTreeClassifier(random_state=42)"
      ]
     },
     "execution_count": 138,
     "metadata": {},
     "output_type": "execute_result"
    }
   ],
   "source": [
    "from sklearn.tree import DecisionTreeClassifier\n",
    "tree = DecisionTreeClassifier(random_state=42)\n",
    "tree.fit(X_train,y_train)"
   ]
  },
  {
   "cell_type": "code",
   "execution_count": 139,
   "id": "d2dca144-170f-4b25-9154-729d5355c336",
   "metadata": {},
   "outputs": [
    {
     "name": "stdout",
     "output_type": "stream",
     "text": [
      "Accuracy Score: 78.15 %\n"
     ]
    }
   ],
   "source": [
    "y_pred = tree.predict(X_test)\n",
    "\n",
    "print('Accuracy Score:', round(accuracy_score(y_test, y_pred)*100, 2), '%')"
   ]
  },
  {
   "cell_type": "code",
   "execution_count": 140,
   "id": "386b320e-f298-4e7b-9771-814fa8b2f35e",
   "metadata": {},
   "outputs": [
    {
     "name": "stdout",
     "output_type": "stream",
     "text": [
      "F-1 Score: 0.7620286085825748\n",
      "Precision Score: 0.8123844731977818\n",
      "Recall Score: 0.7175510204081633\n"
     ]
    }
   ],
   "source": [
    "print('F-1 Score:', (f1_score(y_test, y_pred)))\n",
    "print('Precision Score:', (precision_score(y_test, y_pred)))\n",
    "print('Recall Score:', (recall_score(y_test, y_pred)))"
   ]
  },
  {
   "cell_type": "markdown",
   "id": "1f5886a7-9481-44f3-a3de-04a68425bc1f",
   "metadata": {
    "tags": []
   },
   "source": [
    "## Random Forest Classifier"
   ]
  },
  {
   "cell_type": "code",
   "execution_count": 141,
   "id": "2551d982-f3f5-44f2-b82b-7ce4fb8a148e",
   "metadata": {},
   "outputs": [
    {
     "data": {
      "text/html": [
       "<style>#sk-container-id-13 {color: black;background-color: white;}#sk-container-id-13 pre{padding: 0;}#sk-container-id-13 div.sk-toggleable {background-color: white;}#sk-container-id-13 label.sk-toggleable__label {cursor: pointer;display: block;width: 100%;margin-bottom: 0;padding: 0.3em;box-sizing: border-box;text-align: center;}#sk-container-id-13 label.sk-toggleable__label-arrow:before {content: \"▸\";float: left;margin-right: 0.25em;color: #696969;}#sk-container-id-13 label.sk-toggleable__label-arrow:hover:before {color: black;}#sk-container-id-13 div.sk-estimator:hover label.sk-toggleable__label-arrow:before {color: black;}#sk-container-id-13 div.sk-toggleable__content {max-height: 0;max-width: 0;overflow: hidden;text-align: left;background-color: #f0f8ff;}#sk-container-id-13 div.sk-toggleable__content pre {margin: 0.2em;color: black;border-radius: 0.25em;background-color: #f0f8ff;}#sk-container-id-13 input.sk-toggleable__control:checked~div.sk-toggleable__content {max-height: 200px;max-width: 100%;overflow: auto;}#sk-container-id-13 input.sk-toggleable__control:checked~label.sk-toggleable__label-arrow:before {content: \"▾\";}#sk-container-id-13 div.sk-estimator input.sk-toggleable__control:checked~label.sk-toggleable__label {background-color: #d4ebff;}#sk-container-id-13 div.sk-label input.sk-toggleable__control:checked~label.sk-toggleable__label {background-color: #d4ebff;}#sk-container-id-13 input.sk-hidden--visually {border: 0;clip: rect(1px 1px 1px 1px);clip: rect(1px, 1px, 1px, 1px);height: 1px;margin: -1px;overflow: hidden;padding: 0;position: absolute;width: 1px;}#sk-container-id-13 div.sk-estimator {font-family: monospace;background-color: #f0f8ff;border: 1px dotted black;border-radius: 0.25em;box-sizing: border-box;margin-bottom: 0.5em;}#sk-container-id-13 div.sk-estimator:hover {background-color: #d4ebff;}#sk-container-id-13 div.sk-parallel-item::after {content: \"\";width: 100%;border-bottom: 1px solid gray;flex-grow: 1;}#sk-container-id-13 div.sk-label:hover label.sk-toggleable__label {background-color: #d4ebff;}#sk-container-id-13 div.sk-serial::before {content: \"\";position: absolute;border-left: 1px solid gray;box-sizing: border-box;top: 0;bottom: 0;left: 50%;z-index: 0;}#sk-container-id-13 div.sk-serial {display: flex;flex-direction: column;align-items: center;background-color: white;padding-right: 0.2em;padding-left: 0.2em;position: relative;}#sk-container-id-13 div.sk-item {position: relative;z-index: 1;}#sk-container-id-13 div.sk-parallel {display: flex;align-items: stretch;justify-content: center;background-color: white;position: relative;}#sk-container-id-13 div.sk-item::before, #sk-container-id-13 div.sk-parallel-item::before {content: \"\";position: absolute;border-left: 1px solid gray;box-sizing: border-box;top: 0;bottom: 0;left: 50%;z-index: -1;}#sk-container-id-13 div.sk-parallel-item {display: flex;flex-direction: column;z-index: 1;position: relative;background-color: white;}#sk-container-id-13 div.sk-parallel-item:first-child::after {align-self: flex-end;width: 50%;}#sk-container-id-13 div.sk-parallel-item:last-child::after {align-self: flex-start;width: 50%;}#sk-container-id-13 div.sk-parallel-item:only-child::after {width: 0;}#sk-container-id-13 div.sk-dashed-wrapped {border: 1px dashed gray;margin: 0 0.4em 0.5em 0.4em;box-sizing: border-box;padding-bottom: 0.4em;background-color: white;}#sk-container-id-13 div.sk-label label {font-family: monospace;font-weight: bold;display: inline-block;line-height: 1.2em;}#sk-container-id-13 div.sk-label-container {text-align: center;}#sk-container-id-13 div.sk-container {/* jupyter's `normalize.less` sets `[hidden] { display: none; }` but bootstrap.min.css set `[hidden] { display: none !important; }` so we also need the `!important` here to be able to override the default hidden behavior on the sphinx rendered scikit-learn.org. See: https://github.com/scikit-learn/scikit-learn/issues/21755 */display: inline-block !important;position: relative;}#sk-container-id-13 div.sk-text-repr-fallback {display: none;}</style><div id=\"sk-container-id-13\" class=\"sk-top-container\"><div class=\"sk-text-repr-fallback\"><pre>RandomForestClassifier(n_jobs=-1, random_state=42)</pre><b>In a Jupyter environment, please rerun this cell to show the HTML representation or trust the notebook. <br />On GitHub, the HTML representation is unable to render, please try loading this page with nbviewer.org.</b></div><div class=\"sk-container\" hidden><div class=\"sk-item\"><div class=\"sk-estimator sk-toggleable\"><input class=\"sk-toggleable__control sk-hidden--visually\" id=\"sk-estimator-id-13\" type=\"checkbox\" checked><label for=\"sk-estimator-id-13\" class=\"sk-toggleable__label sk-toggleable__label-arrow\">RandomForestClassifier</label><div class=\"sk-toggleable__content\"><pre>RandomForestClassifier(n_jobs=-1, random_state=42)</pre></div></div></div></div></div>"
      ],
      "text/plain": [
       "RandomForestClassifier(n_jobs=-1, random_state=42)"
      ]
     },
     "execution_count": 141,
     "metadata": {},
     "output_type": "execute_result"
    }
   ],
   "source": [
    "from sklearn.ensemble import RandomForestClassifier\n",
    "forest = RandomForestClassifier(random_state=42,n_jobs=-1)\n",
    "forest.fit(X_train, y_train)"
   ]
  },
  {
   "cell_type": "code",
   "execution_count": 142,
   "id": "d0157959-cb3b-44d3-b555-3200c228eee5",
   "metadata": {},
   "outputs": [
    {
     "name": "stdout",
     "output_type": "stream",
     "text": [
      "Accuracy Score: 76.32 %\n"
     ]
    }
   ],
   "source": [
    "y_pred = forest.predict(X_test)\n",
    "\n",
    "print('Accuracy Score:', round(accuracy_score(y_test, y_pred)*100, 2), '%')"
   ]
  },
  {
   "cell_type": "code",
   "execution_count": 143,
   "id": "30f061d7-2451-4514-9215-2e9b065a2809",
   "metadata": {},
   "outputs": [
    {
     "name": "stdout",
     "output_type": "stream",
     "text": [
      "F-1 Score: 0.7192071731949032\n",
      "Precision Score: 0.8523489932885906\n",
      "Recall Score: 0.6220408163265306\n"
     ]
    }
   ],
   "source": [
    "print('F-1 Score:', (f1_score(y_test, y_pred)))\n",
    "print('Precision Score:', (precision_score(y_test, y_pred)))\n",
    "print('Recall Score:', (recall_score(y_test, y_pred)))"
   ]
  },
  {
   "cell_type": "markdown",
   "id": "3016b16d-212c-4180-8b2d-7900604d65b0",
   "metadata": {},
   "source": [
    "## Logistic Regression"
   ]
  },
  {
   "cell_type": "code",
   "execution_count": 144,
   "id": "26ac0a91-1e29-4f01-9ce1-2d3a06d981db",
   "metadata": {},
   "outputs": [
    {
     "data": {
      "text/html": [
       "<style>#sk-container-id-14 {color: black;background-color: white;}#sk-container-id-14 pre{padding: 0;}#sk-container-id-14 div.sk-toggleable {background-color: white;}#sk-container-id-14 label.sk-toggleable__label {cursor: pointer;display: block;width: 100%;margin-bottom: 0;padding: 0.3em;box-sizing: border-box;text-align: center;}#sk-container-id-14 label.sk-toggleable__label-arrow:before {content: \"▸\";float: left;margin-right: 0.25em;color: #696969;}#sk-container-id-14 label.sk-toggleable__label-arrow:hover:before {color: black;}#sk-container-id-14 div.sk-estimator:hover label.sk-toggleable__label-arrow:before {color: black;}#sk-container-id-14 div.sk-toggleable__content {max-height: 0;max-width: 0;overflow: hidden;text-align: left;background-color: #f0f8ff;}#sk-container-id-14 div.sk-toggleable__content pre {margin: 0.2em;color: black;border-radius: 0.25em;background-color: #f0f8ff;}#sk-container-id-14 input.sk-toggleable__control:checked~div.sk-toggleable__content {max-height: 200px;max-width: 100%;overflow: auto;}#sk-container-id-14 input.sk-toggleable__control:checked~label.sk-toggleable__label-arrow:before {content: \"▾\";}#sk-container-id-14 div.sk-estimator input.sk-toggleable__control:checked~label.sk-toggleable__label {background-color: #d4ebff;}#sk-container-id-14 div.sk-label input.sk-toggleable__control:checked~label.sk-toggleable__label {background-color: #d4ebff;}#sk-container-id-14 input.sk-hidden--visually {border: 0;clip: rect(1px 1px 1px 1px);clip: rect(1px, 1px, 1px, 1px);height: 1px;margin: -1px;overflow: hidden;padding: 0;position: absolute;width: 1px;}#sk-container-id-14 div.sk-estimator {font-family: monospace;background-color: #f0f8ff;border: 1px dotted black;border-radius: 0.25em;box-sizing: border-box;margin-bottom: 0.5em;}#sk-container-id-14 div.sk-estimator:hover {background-color: #d4ebff;}#sk-container-id-14 div.sk-parallel-item::after {content: \"\";width: 100%;border-bottom: 1px solid gray;flex-grow: 1;}#sk-container-id-14 div.sk-label:hover label.sk-toggleable__label {background-color: #d4ebff;}#sk-container-id-14 div.sk-serial::before {content: \"\";position: absolute;border-left: 1px solid gray;box-sizing: border-box;top: 0;bottom: 0;left: 50%;z-index: 0;}#sk-container-id-14 div.sk-serial {display: flex;flex-direction: column;align-items: center;background-color: white;padding-right: 0.2em;padding-left: 0.2em;position: relative;}#sk-container-id-14 div.sk-item {position: relative;z-index: 1;}#sk-container-id-14 div.sk-parallel {display: flex;align-items: stretch;justify-content: center;background-color: white;position: relative;}#sk-container-id-14 div.sk-item::before, #sk-container-id-14 div.sk-parallel-item::before {content: \"\";position: absolute;border-left: 1px solid gray;box-sizing: border-box;top: 0;bottom: 0;left: 50%;z-index: -1;}#sk-container-id-14 div.sk-parallel-item {display: flex;flex-direction: column;z-index: 1;position: relative;background-color: white;}#sk-container-id-14 div.sk-parallel-item:first-child::after {align-self: flex-end;width: 50%;}#sk-container-id-14 div.sk-parallel-item:last-child::after {align-self: flex-start;width: 50%;}#sk-container-id-14 div.sk-parallel-item:only-child::after {width: 0;}#sk-container-id-14 div.sk-dashed-wrapped {border: 1px dashed gray;margin: 0 0.4em 0.5em 0.4em;box-sizing: border-box;padding-bottom: 0.4em;background-color: white;}#sk-container-id-14 div.sk-label label {font-family: monospace;font-weight: bold;display: inline-block;line-height: 1.2em;}#sk-container-id-14 div.sk-label-container {text-align: center;}#sk-container-id-14 div.sk-container {/* jupyter's `normalize.less` sets `[hidden] { display: none; }` but bootstrap.min.css set `[hidden] { display: none !important; }` so we also need the `!important` here to be able to override the default hidden behavior on the sphinx rendered scikit-learn.org. See: https://github.com/scikit-learn/scikit-learn/issues/21755 */display: inline-block !important;position: relative;}#sk-container-id-14 div.sk-text-repr-fallback {display: none;}</style><div id=\"sk-container-id-14\" class=\"sk-top-container\"><div class=\"sk-text-repr-fallback\"><pre>LogisticRegression(n_jobs=-1, random_state=42)</pre><b>In a Jupyter environment, please rerun this cell to show the HTML representation or trust the notebook. <br />On GitHub, the HTML representation is unable to render, please try loading this page with nbviewer.org.</b></div><div class=\"sk-container\" hidden><div class=\"sk-item\"><div class=\"sk-estimator sk-toggleable\"><input class=\"sk-toggleable__control sk-hidden--visually\" id=\"sk-estimator-id-14\" type=\"checkbox\" checked><label for=\"sk-estimator-id-14\" class=\"sk-toggleable__label sk-toggleable__label-arrow\">LogisticRegression</label><div class=\"sk-toggleable__content\"><pre>LogisticRegression(n_jobs=-1, random_state=42)</pre></div></div></div></div></div>"
      ],
      "text/plain": [
       "LogisticRegression(n_jobs=-1, random_state=42)"
      ]
     },
     "execution_count": 144,
     "metadata": {},
     "output_type": "execute_result"
    }
   ],
   "source": [
    "from sklearn.linear_model import LogisticRegression\n",
    "lr = LogisticRegression(random_state=42, n_jobs=-1)\n",
    "lr.fit(X_train, y_train)"
   ]
  },
  {
   "cell_type": "code",
   "execution_count": 145,
   "id": "203dc1ef-f249-4b0a-9c75-87cff8491f7f",
   "metadata": {},
   "outputs": [
    {
     "name": "stdout",
     "output_type": "stream",
     "text": [
      "Accuracy Score: 66.77 %\n"
     ]
    }
   ],
   "source": [
    "y_pred = lr.predict(X_test)\n",
    "print('Accuracy Score:', round(accuracy_score(y_test, y_pred)*100, 2), '%')"
   ]
  },
  {
   "cell_type": "code",
   "execution_count": 146,
   "id": "fbb5482e-8049-4441-bad3-90fb9f5ad6f4",
   "metadata": {},
   "outputs": [
    {
     "name": "stdout",
     "output_type": "stream",
     "text": [
      "F-1 Score: 0.5936739659367396\n",
      "Precision Score: 0.7349397590361446\n",
      "Recall Score: 0.49795918367346936\n"
     ]
    }
   ],
   "source": [
    "print('F-1 Score:', (f1_score(y_test, y_pred)))\n",
    "print('Precision Score:', (precision_score(y_test, y_pred)))\n",
    "print('Recall Score:', (recall_score(y_test, y_pred)))"
   ]
  },
  {
   "cell_type": "markdown",
   "id": "8ee1957c-b043-47d1-96fa-a6b665c6be5b",
   "metadata": {
    "tags": []
   },
   "source": [
    "- Decision Tree model has the most accurate score"
   ]
  },
  {
   "cell_type": "code",
   "execution_count": 147,
   "id": "0b8c90d1-9ef2-46fc-ac8a-d782d22e8bc6",
   "metadata": {},
   "outputs": [
    {
     "data": {
      "text/plain": [
       "Index(['ID', 'Warehouse_block', 'Mode_of_Shipment', 'Customer_care_calls',\n",
       "       'Customer_rating', 'Cost_of_the_Product', 'Prior_purchases',\n",
       "       'Product_importance', 'Gender', 'Discount_offered', 'Weight_in_gms',\n",
       "       'Reached.on.Time_Y.N'],\n",
       "      dtype='object')"
      ]
     },
     "execution_count": 147,
     "metadata": {},
     "output_type": "execute_result"
    }
   ],
   "source": [
    "df.columns"
   ]
  },
  {
   "cell_type": "markdown",
   "id": "759e6bc5-a824-4196-891c-bf35b16db11d",
   "metadata": {
    "tags": []
   },
   "source": [
    "## Predicting wheter a product will reach on time or not\n"
   ]
  },
  {
   "cell_type": "code",
   "execution_count": 166,
   "id": "1a55d7e0-3bed-4767-8797-e3a0e98f29bb",
   "metadata": {},
   "outputs": [],
   "source": [
    "Warehouse = dict(zip(['D', 'F', 'A', 'B', 'C'], [3, 4, 0, 1, 2]))\n",
    "Mode = dict(zip(['Flight', 'Ship', 'Road'],[0, 2, 1]))\n",
    "importance = dict(zip(['low', 'medium', 'high'],[1, 2, 0]))\n",
    "gender = dict(zip(['F', 'M'],[0, 1]))\n",
    "\n",
    "def predict_shippment(model, Warehouse_block, Mode_of_Shipment, Customer_care_calls, Customer_rating, Cost_of_the_Product, Prior_purchases, Product_importance, Gender, Discount_offered, Weight_in_gms):\n",
    "    '''\n",
    "    Input:\n",
    "    model: trained model to predict\n",
    "    Warehouse_block: Warehouse type in ['D', 'F', 'A', 'B', 'C']\n",
    "    Mode_of_Shipment: Mode of shipment you want to select from ['Flight', 'Ship', 'Road']\n",
    "    Customer_care_calls: How many calls the customer did\n",
    "    Cost_of_the_product: Product Cost\n",
    "    Prior_purchases: Past purchases\n",
    "    Product_importance: 'low', 'medium' or 'high' importance of product\n",
    "    Gender: Between Femal and Male as F or M\n",
    "    Discount_offered: Offered Discount\n",
    "    Weight_in_gms: Product Weight in grams\n",
    "    \n",
    "    Output:\n",
    "    The product will reach in time or not\n",
    "    '''\n",
    "    input_data = np.array([Warehouse[Warehouse_block], Mode[Mode_of_Shipment], Customer_care_calls, Customer_rating, Cost_of_the_Product, Prior_purchases, importance[Product_importance], gender[Gender], Discount_offered, Weight_in_gms])\n",
    "    input_data = np.array(input_data).reshape(1,-1)\n",
    "    input_data = np.array(input_data).astype('int64')\n",
    "    \n",
    "    reached_on_time = model.predict(input_data)\n",
    "    \n",
    "    return \"Yes\" if reached_on_time==1 else \"No\""
   ]
  },
  {
   "cell_type": "code",
   "execution_count": 163,
   "id": "6bd8c099-3a62-4b09-b01c-6fd20d2b8b95",
   "metadata": {},
   "outputs": [
    {
     "name": "stderr",
     "output_type": "stream",
     "text": [
      "/Users/harsh/miniconda3/lib/python3.10/site-packages/sklearn/base.py:420: UserWarning: X does not have valid feature names, but DecisionTreeClassifier was fitted with feature names\n",
      "  warnings.warn(\n"
     ]
    },
    {
     "data": {
      "text/plain": [
       "array([1])"
      ]
     },
     "execution_count": 165,
     "metadata": {},
     "output_type": "execute_result"
    }
   ],
   "source": [
    "predict_shippment(model=tree, Warehouse_block='F', Mode_of_Shipment='Flight', Customer_care_calls=3, Customer_rating=4, Cost_of_the_Product=250, Prior_purchases=4, Gender='F', Discount_offered=33, Weight_in_gms=1200, Product_importance='high')"
   ]
  },
  {
   "cell_type": "code",
   "execution_count": null,
   "id": "2693a4c0-5473-4d97-bd63-af36bfdce094",
   "metadata": {},
   "outputs": [],
   "source": []
  }
 ],
 "metadata": {
  "kernelspec": {
   "display_name": "Python 3 (ipykernel)",
   "language": "python",
   "name": "python3"
  },
  "language_info": {
   "codemirror_mode": {
    "name": "ipython",
    "version": 3
   },
   "file_extension": ".py",
   "mimetype": "text/x-python",
   "name": "python",
   "nbconvert_exporter": "python",
   "pygments_lexer": "ipython3",
   "version": "3.10.8"
  }
 },
 "nbformat": 4,
 "nbformat_minor": 5
}
